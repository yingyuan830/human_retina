{
 "cells": [
  {
   "cell_type": "code",
   "execution_count": 1,
   "id": "14f58e96-a6b1-4273-95eb-47ac862921e8",
   "metadata": {},
   "outputs": [],
   "source": [
    "from ALLCools.clustering import *\n",
    "from ALLCools.mcds import MCDS\n",
    "import pybedtools\n",
    "import pandas as pd\n",
    "from pyensembl import EnsemblRelease"
   ]
  },
  {
   "cell_type": "code",
   "execution_count": 2,
   "id": "8f600187-dd29-4186-b14c-194214c6f8a0",
   "metadata": {},
   "outputs": [],
   "source": [
    "# Parameters\n",
    "cef_cluster_level = \"cell\"\n",
    "chrom_to_remove = [\"chrX\", \"chrY\", \"chrM\", \"chrL\"]\n",
    "cpu = 1\n",
    "downsample = 500\n",
    "global_cef = None\n",
    "mc_type = \"CHN\"\n",
    "mem_gb = 1\n",
    "var_dim = \"geneslop2k\" #\n"
   ]
  },
  {
   "cell_type": "code",
   "execution_count": 91,
   "id": "dbb3db25-5ecf-4a24-8b1d-ea2c6365e61e",
   "metadata": {},
   "outputs": [],
   "source": [
    "import anndata as ad\n",
    "big_adata = ad.concat([adata_1, adata_2],merge=\"same\") \n"
   ]
  },
  {
   "cell_type": "markdown",
   "id": "bd217a62-113f-4400-ac42-8ece6a69e12b",
   "metadata": {},
   "source": [
    "## basic feature filtering"
   ]
  },
  {
   "cell_type": "code",
   "execution_count": 96,
   "id": "4dafdaa3-84b2-4ae6-a86c-b3875ca8d340",
   "metadata": {},
   "outputs": [
    {
     "name": "stdout",
     "output_type": "stream",
     "text": [
      "55411 regions remained.\n"
     ]
    }
   ],
   "source": [
    "remove_chromosomes(big_adata, exclude_chromosomes=chrom_to_remove)"
   ]
  },
  {
   "cell_type": "code",
   "execution_count": 98,
   "id": "c1ef427a-8dfc-42b3-9f73-0b8008bd97a8",
   "metadata": {},
   "outputs": [
    {
     "name": "stdout",
     "output_type": "stream",
     "text": [
      "1668 regions removed due to overlapping (bedtools intersect -f 0.2) with black list regions.\n"
     ]
    }
   ],
   "source": [
    "remove_black_list_region(big_adata, black_list_path='./hg38-blacklist.v2.bed')\n"
   ]
  },
  {
   "cell_type": "code",
   "execution_count": 99,
   "id": "c607f638-e7a5-42f1-b317-18b286658b1b",
   "metadata": {},
   "outputs": [],
   "source": [
    "# remove low std features\n",
    "pass_std_filter = big_adata.X.std(axis=0) > 0.05\n",
    "big_adata._inplace_subset_var(pass_std_filter)"
   ]
  },
  {
   "cell_type": "markdown",
   "id": "08c6d131-2bd6-4a93-bbfa-137c2e163f05",
   "metadata": {},
   "source": [
    "## preprocess and save"
   ]
  },
  {
   "cell_type": "code",
   "execution_count": null,
   "id": "8b037beb",
   "metadata": {},
   "outputs": [],
   "source": [
    "# log mC fraction and scale features\n",
    "log_scale(new_big_adata, with_mean=True)\n",
    "\n",
    "# reverse mC fraction so its positively corr with RNA\n",
    "new_big_adata.X *= -1"
   ]
  },
  {
   "cell_type": "code",
   "execution_count": 115,
   "id": "b881e09b-a4ae-486d-99eb-25a76e5d028f",
   "metadata": {},
   "outputs": [
    {
     "name": "stderr",
     "output_type": "stream",
     "text": [
      "... storing 'chrom' as categorical\n"
     ]
    }
   ],
   "source": [
    "new_big_adata.write_h5ad('big_mc_input.h5ad')"
   ]
  }
 ],
 "metadata": {
  "kernelspec": {
   "display_name": "analysis",
   "language": "python",
   "name": "analysis"
  },
  "language_info": {
   "codemirror_mode": {
    "name": "ipython",
    "version": 3
   },
   "file_extension": ".py",
   "mimetype": "text/x-python",
   "name": "python",
   "nbconvert_exporter": "python",
   "pygments_lexer": "ipython3",
   "version": "3.9.16"
  }
 },
 "nbformat": 4,
 "nbformat_minor": 5
}

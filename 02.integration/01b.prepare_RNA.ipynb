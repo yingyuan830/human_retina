{
 "cells": [
  {
   "cell_type": "code",
   "execution_count": 1,
   "id": "c8ef80bc-51c3-4303-b26e-53231634b11a",
   "metadata": {},
   "outputs": [],
   "source": [
    "import numpy as np\n",
    "import pandas as pd\n",
    "import scanpy as sc\n",
    "from wmb import cemba, mm10\n",
    "\n",
    "from ALLCools.clustering import *\n",
    "from ALLCools.mcds import MCDS\n",
    "import pybedtools\n",
    "from pyensembl import EnsemblRelease"
   ]
  },
  {
   "cell_type": "code",
   "execution_count": 2,
   "id": "b390b637-dabb-4800-9d7a-d4e7dad7409d",
   "metadata": {},
   "outputs": [],
   "source": [
    "# Parameters\n",
    "chrom_to_remove = [\"chrX\", \"chrY\", \"chrM\", \"chrL\"]"
   ]
  },
  {
   "cell_type": "markdown",
   "id": "bcf46386-3f0c-441c-9d91-458ae2705bbb",
   "metadata": {},
   "source": [
    "## merge adata"
   ]
  },
  {
   "cell_type": "code",
   "execution_count": 67,
   "id": "01965fdf-0b60-4472-884f-eb94c6ab194f",
   "metadata": {},
   "outputs": [],
   "source": [
    "import anndata as ad\n",
    "big_adata = ad.concat([adata_1, adata_2],merge=\"same\",keys=['Retina','Macula'])\n"
   ]
  },
  {
   "cell_type": "markdown",
   "id": "43efcc3e-decf-4246-9bf7-4745bd331c84",
   "metadata": {},
   "source": [
    "## add annotation"
   ]
  },
  {
   "cell_type": "markdown",
   "id": "76fc7a87-ebf5-4c7a-a1ce-8e8fd0c1d347",
   "metadata": {},
   "source": [
    "## basic feature filtering"
   ]
  },
  {
   "cell_type": "code",
   "execution_count": 80,
   "id": "8374bf1d-3b60-4349-9671-af953d5f9bf0",
   "metadata": {},
   "outputs": [
    {
     "name": "stdout",
     "output_type": "stream",
     "text": [
      "33062 regions remained.\n"
     ]
    }
   ],
   "source": [
    "remove_chromosomes(new_big_adata, exclude_chromosomes=chrom_to_remove)"
   ]
  },
  {
   "cell_type": "code",
   "execution_count": null,
   "id": "44e19362",
   "metadata": {},
   "outputs": [],
   "source": [
    "remove_black_list_region(new_big_adata, black_list_path='./hg38-blacklist.v2.bed')\n"
   ]
  },
  {
   "cell_type": "code",
   "execution_count": 85,
   "id": "de6a994f-0032-42b6-81ec-360236c1d2aa",
   "metadata": {},
   "outputs": [],
   "source": [
    "# Convert the sparse matrix to a dense numpy array\n",
    "dense_matrix = new_big_adata.X.toarray()\n",
    "# Calculate standard deviation along the desired axis\n",
    "pass_std_filter = np.std(dense_matrix, axis=0) > 0.05\n",
    "# Subset the AnnData object\n",
    "new_big_adata = new_big_adata[:, pass_std_filter]"
   ]
  },
  {
   "cell_type": "code",
   "execution_count": 88,
   "id": "361959aa-b4bb-434b-81f5-2695f0d275ce",
   "metadata": {},
   "outputs": [
    {
     "name": "stdout",
     "output_type": "stream",
     "text": [
      "18830 regions remained.\n"
     ]
    }
   ],
   "source": [
    "n_cell = 5\n",
    "if new_big_adata.n_obs > n_cell:\n",
    "    filter_regions(new_big_adata, n_cell=n_cell, zscore_abs_cutoff=None)"
   ]
  },
  {
   "cell_type": "code",
   "execution_count": 89,
   "id": "98693094-7c6f-4d79-973c-bf8823542c63",
   "metadata": {},
   "outputs": [],
   "source": [
    "if new_big_adata.X.dtype != 'float32':\n",
    "    new_big_adata.X = new_big_adata.X.astype('float32')"
   ]
  },
  {
   "cell_type": "code",
   "execution_count": 90,
   "id": "bf9c6059-b848-4f80-b2ac-74a2722ed4bf",
   "metadata": {},
   "outputs": [],
   "source": [
    "sc.pp.normalize_per_cell(new_big_adata)"
   ]
  },
  {
   "cell_type": "code",
   "execution_count": 91,
   "id": "7cefc2de-a989-4a6f-a60d-64aaf8968a2e",
   "metadata": {},
   "outputs": [],
   "source": [
    "sc.pp.log1p(new_big_adata)"
   ]
  },
  {
   "cell_type": "code",
   "execution_count": 92,
   "id": "3bb3509d-e226-43c4-b549-419ce4b14e9b",
   "metadata": {},
   "outputs": [],
   "source": [
    "std_cutoff= 0.05\n",
    "new_big_adata.X = new_big_adata.X.toarray()\n",
    "std_filter = new_big_adata.X.std(axis=0) > std_cutoff\n",
    "new_big_adata._inplace_subset_var(std_filter)"
   ]
  },
  {
   "cell_type": "code",
   "execution_count": 94,
   "id": "448a27fc-786a-489a-9143-bd18d2bc0a7f",
   "metadata": {},
   "outputs": [],
   "source": [
    "# zero_center=False to prevent making dense matrix\n",
    "sc.pp.scale(new_big_adata, zero_center=True)"
   ]
  },
  {
   "cell_type": "code",
   "execution_count": 95,
   "id": "2ce69785-34e7-4865-9e21-885286637357",
   "metadata": {},
   "outputs": [
    {
     "name": "stderr",
     "output_type": "stream",
     "text": [
      "... storing 'annotation' as categorical\n",
      "... storing 'chrom' as categorical\n"
     ]
    }
   ],
   "source": [
    "new_big_adata.write_h5ad('big_rna_input.h5ad')"
   ]
  },
  {
   "cell_type": "code",
   "execution_count": null,
   "id": "31c8894e-33ad-4601-9ee4-60ddf5fc26f7",
   "metadata": {},
   "outputs": [],
   "source": []
  },
  {
   "cell_type": "code",
   "execution_count": null,
   "id": "5cd1d1bf-7feb-49e1-9eed-212bc6083937",
   "metadata": {},
   "outputs": [],
   "source": []
  },
  {
   "cell_type": "code",
   "execution_count": null,
   "id": "c2ed8ee0-c705-4e42-a6b8-ae3d8e22194a",
   "metadata": {},
   "outputs": [],
   "source": []
  },
  {
   "cell_type": "code",
   "execution_count": null,
   "id": "29aac514-4e48-437b-830e-db906b0f1b7a",
   "metadata": {},
   "outputs": [],
   "source": []
  }
 ],
 "metadata": {
  "kernelspec": {
   "display_name": "analysis",
   "language": "python",
   "name": "analysis"
  },
  "language_info": {
   "codemirror_mode": {
    "name": "ipython",
    "version": 3
   },
   "file_extension": ".py",
   "mimetype": "text/x-python",
   "name": "python",
   "nbconvert_exporter": "python",
   "pygments_lexer": "ipython3",
   "version": "3.9.16"
  }
 },
 "nbformat": 4,
 "nbformat_minor": 5
}

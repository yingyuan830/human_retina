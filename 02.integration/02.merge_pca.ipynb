{
 "cells": [
  {
   "cell_type": "code",
   "execution_count": 1,
   "id": "510ddd8c-26a1-493b-817a-4f6312f9c5a2",
   "metadata": {},
   "outputs": [],
   "source": [
    "import anndata\n",
    "import numpy as np\n",
    "from ALLCools.clustering import *\n",
    "from sklearn.decomposition import PCA, TruncatedSVD\n",
    "\n",
    "import matplotlib.pyplot as plt\n",
    "from ALLCools.mcds import MCDS\n",
    "import pandas as pd"
   ]
  },
  {
   "cell_type": "code",
   "execution_count": 2,
   "id": "f699a94b-bbf1-4c36-9884-4152bc8e5643",
   "metadata": {},
   "outputs": [],
   "source": [
    "ref_dataset = \"rna\"\n"
   ]
  },
  {
   "cell_type": "markdown",
   "id": "add32b63-df20-4a37-94e8-1771492a22cd",
   "metadata": {},
   "source": [
    "## load RNA"
   ]
  },
  {
   "cell_type": "code",
   "execution_count": 5,
   "id": "88e1a6e7-82b4-4188-8e30-614e93a4d844",
   "metadata": {},
   "outputs": [],
   "source": [
    "ref_adata = anndata.read_h5ad(\"./big_rna_input.h5ad\")"
   ]
  },
  {
   "cell_type": "markdown",
   "id": "9ab72a27-412d-47c1-ac88-2c4a9a9c8779",
   "metadata": {},
   "source": [
    "## load mC data"
   ]
  },
  {
   "cell_type": "code",
   "execution_count": 8,
   "id": "cb7b2821-07d2-4e8b-8cf2-209682593ab5",
   "metadata": {},
   "outputs": [],
   "source": [
    "query_adata = anndata.read_h5ad(\"./big_mc_input.h5ad\")"
   ]
  },
  {
   "cell_type": "markdown",
   "id": "13568a1a-61f2-4e76-b1c4-aa3795201835",
   "metadata": {},
   "source": [
    "## merge adata"
   ]
  },
  {
   "cell_type": "markdown",
   "id": "d33764c1-7739-4c02-aa7a-0294c341f800",
   "metadata": {},
   "source": [
    "## run PCA on merged adata"
   ]
  },
  {
   "cell_type": "code",
   "execution_count": null,
   "id": "2541ce64",
   "metadata": {},
   "outputs": [],
   "source": [
    "n_feature = ref_adata.shape[1]\n"
   ]
  },
  {
   "cell_type": "code",
   "execution_count": 19,
   "id": "93cd9add-acee-4ffc-9e6e-6956a77cfa43",
   "metadata": {},
   "outputs": [
    {
     "name": "stdout",
     "output_type": "stream",
     "text": [
      "100 non-zero singular values\n"
     ]
    }
   ],
   "source": [
    "if n_feature >= 100:\n",
    "    model = TruncatedSVD(n_components=100, random_state=0, algorithm='randomized')\n",
    "else:\n",
    "    model = TruncatedSVD(n_components=n_feature - 1, random_state=0, algorithm='randomized')\n",
    "\n",
    "model.fit(ref_adata.X[ref_adata.obs[\"Train\"].values])\n",
    "sel_dim = model.singular_values_ != 0\n",
    "print(sel_dim.sum(), 'non-zero singular values')"
   ]
  },
  {
   "cell_type": "code",
   "execution_count": 20,
   "id": "2c4c4fe9-a464-4816-b579-09b185c274d8",
   "metadata": {},
   "outputs": [
    {
     "data": {
      "text/plain": [
       "[<matplotlib.lines.Line2D at 0x7fd06d1f0370>]"
      ]
     },
     "execution_count": 20,
     "metadata": {},
     "output_type": "execute_result"
    },
    {
     "data": {
      "image/png": "[encoded data removed]",
      "text/plain": [
       "<Figure size 640x480 with 1 Axes>"
      ]
     },
     "metadata": {},
     "output_type": "display_data"
    }
   ],
   "source": [
    "fig, ax = plt.subplots()\n",
    "ax.plot(model.explained_variance_ratio_)"
   ]
  },
  {
   "cell_type": "code",
   "execution_count": null,
   "id": "a9ee115e",
   "metadata": {},
   "outputs": [],
   "source": [
    "# transform all other data\n",
    "chunk_size = 50000\n",
    "chunks = []\n",
    "for chunk_start in range(0, adata_merge.shape[0], chunk_size):\n",
    "    chunks.append(\n",
    "        model.transform(adata_merge.X[chunk_start : (chunk_start + chunk_size)])\n",
    "    )\n",
    "\n",
    "# add NNZ PCs to adata\n",
    "adata_merge.obsm[\"X_pca\"] = np.concatenate(chunks, axis=0)[:, sel_dim]\n",
    "\n",
    "# remove low variance PCs\n",
    "n_pcs = significant_pc_test(adata_merge, p_cutoff=0.05, obsm=\"X_pca\")\n",
    "\n",
    "# scale PC by singular values\n",
    "adata_merge.obsm[\"X_pca\"] /= model.singular_values_[sel_dim][:n_pcs]"
   ]
  },
  {
   "cell_type": "code",
   "execution_count": 26,
   "id": "b291d017-d012-4953-8370-8a6308b1120e",
   "metadata": {},
   "outputs": [],
   "source": [
    "adata_merge.obs.loc[:,adata_merge.obs.dtypes=='object'] = adata_merge.obs.loc[:,adata_merge.obs.dtypes=='object'].values.astype(str)"
   ]
  },
  {
   "cell_type": "code",
   "execution_count": 28,
   "id": "179fbb00-9108-4815-9358-ada36ef4edb0",
   "metadata": {},
   "outputs": [],
   "source": [
    "for m in [\"mC\", \"RNA\"]:\n",
    "    adata = adata_merge[adata_merge.obs[\"Modality\"] == m]\n",
    "    adata.write_h5ad(f\"{m.lower()}_pca.h5ad\")"
   ]
  },
  {
   "cell_type": "code",
   "execution_count": null,
   "id": "1989bc19-06c9-498c-8021-879ab0098bcf",
   "metadata": {},
   "outputs": [],
   "source": []
  }
 ],
 "metadata": {
  "kernelspec": {
   "display_name": "analysis",
   "language": "python",
   "name": "analysis"
  },
  "language_info": {
   "codemirror_mode": {
    "name": "ipython",
    "version": 3
   },
   "file_extension": ".py",
   "mimetype": "text/x-python",
   "name": "python",
   "nbconvert_exporter": "python",
   "pygments_lexer": "ipython3",
   "version": "3.9.16"
  }
 },
 "nbformat": 4,
 "nbformat_minor": 5
}

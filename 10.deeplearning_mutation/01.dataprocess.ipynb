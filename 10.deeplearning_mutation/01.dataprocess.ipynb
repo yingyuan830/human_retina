{
 "cells": [
  {
   "cell_type": "markdown",
   "metadata": {},
   "source": [
    "# human eye"
   ]
  },
  {
   "cell_type": "markdown",
   "metadata": {},
   "source": [
    "### Please download the sample data first and put into utils folder"
   ]
  },
  {
   "cell_type": "code",
   "execution_count": null,
   "metadata": {},
   "outputs": [],
   "source": [
    "lines = [['index','identifier','file','scale','sum_stat','description']]\n",
    "lines.append(['0', 'human_RPE', './utils/RPE.sorted.bw', '0.02', 'mean', 'RPE'])\n",
    "\n",
    "samples_out = open('./utils/RPE_wigs.txt', 'w')\n",
    "for line in lines:\n",
    "    print('\\t'.join(line), file=samples_out)\n",
    "samples_out.close()"
   ]
  }
 ],
 "metadata": {
  "language_info": {
   "name": "python"
  }
 },
 "nbformat": 4,
 "nbformat_minor": 2
}
